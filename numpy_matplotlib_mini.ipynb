{
  "nbformat": 4,
  "nbformat_minor": 0,
  "metadata": {
    "colab": {
      "provenance": [],
      "authorship_tag": "ABX9TyN9oWfTfYb0uwFeq6DIKpMQ",
      "include_colab_link": true
    },
    "kernelspec": {
      "name": "python3",
      "display_name": "Python 3"
    },
    "language_info": {
      "name": "python"
    }
  },
  "cells": [
    {
      "cell_type": "markdown",
      "metadata": {
        "id": "view-in-github",
        "colab_type": "text"
      },
      "source": [
        "<a href=\"https://colab.research.google.com/github/betts-hannah/numpy-matplotlib-miniproject/blob/main/numpy_matplotlib_mini.ipynb\" target=\"_parent\"><img src=\"https://colab.research.google.com/assets/colab-badge.svg\" alt=\"Open In Colab\"/></a>"
      ]
    },
    {
      "cell_type": "code",
      "source": [
        "# Hannah Betts\n",
        "# Scientific Computing SP25"
      ],
      "metadata": {
        "id": "9uEebmYtc33g"
      },
      "execution_count": null,
      "outputs": []
    },
    {
      "cell_type": "code",
      "execution_count": null,
      "metadata": {
        "id": "Fe-ps8AcRSO0"
      },
      "outputs": [],
      "source": [
        "import numpy as np\n",
        "import sys"
      ]
    },
    {
      "cell_type": "code",
      "source": [
        "def inside_circle(total_count):\n",
        "    x = np.random.uniform(size=total_count)\n",
        "    y = np.random.uniform(size=total_count)\n",
        "    radii = np.sqrt(x*x + y*y)\n",
        "    count = len(radii[np.where(radii<=1.0)])\n",
        "    return count"
      ],
      "metadata": {
        "id": "mz1C7spaSJ7T"
      },
      "execution_count": null,
      "outputs": []
    },
    {
      "cell_type": "code",
      "source": [
        "def main():\n",
        "    n_samples = int(10)\n",
        "    counts = inside_circle(n_samples)\n",
        "    my_pi = 4.0 * counts / n_samples\n",
        "    size_of_float = np.dtype(np.float64).itemsize\n",
        "    memory_required = 3 * n_samples * size_of_float / (1024**3)\n",
        "    print(\"Pi: {}, memory: {} GiB\".format(my_pi, memory_required))\n",
        "\n",
        "\n",
        "if __name__ == '__main__':\n",
        "    main()"
      ],
      "metadata": {
        "colab": {
          "base_uri": "https://localhost:8080/"
        },
        "id": "sabEgXGxSO2C",
        "outputId": "2cc1dc02-785c-469b-92a6-88db8ecf9ff7"
      },
      "execution_count": null,
      "outputs": [
        {
          "output_type": "stream",
          "name": "stdout",
          "text": [
            "Pi: 2.8, memory: 2.2351741790771484e-07 GiB\n"
          ]
        }
      ]
    },
    {
      "cell_type": "code",
      "source": [
        "import numpy as np\n",
        "import sys\n",
        "import datetime\n",
        "import math"
      ],
      "metadata": {
        "id": "YAwTn2DrAS2j"
      },
      "execution_count": null,
      "outputs": []
    },
    {
      "cell_type": "code",
      "source": [
        "def inside_circle(total_count):\n",
        "    x = np.random.uniform(size=total_count)\n",
        "    y = np.random.uniform(size=total_count)\n",
        "    radii = np.sqrt(x*x + y*y)\n",
        "    count = len(radii[np.where(radii<=1.0)])\n",
        "    return count"
      ],
      "metadata": {
        "id": "yucMfhtsadh1"
      },
      "execution_count": null,
      "outputs": []
    },
    {
      "cell_type": "code",
      "source": [
        "start_time = datetime.datetime.now()"
      ],
      "metadata": {
        "id": "GtaRItaMZkhh"
      },
      "execution_count": null,
      "outputs": []
    },
    {
      "cell_type": "code",
      "source": [
        "end_time = datetime.datetime.now()\n",
        "elapsed_time = (end_time - start_time).total_seconds()"
      ],
      "metadata": {
        "id": "a4MAdjgvZsjo"
      },
      "execution_count": null,
      "outputs": []
    },
    {
      "cell_type": "code",
      "source": [
        "def main():\n",
        "    n_samples = int(10)\n",
        "    start_time = datetime.datetime.now()\n",
        "    counts = inside_circle(n_samples)\n",
        "    my_pi = 4.0 * counts / n_samples\n",
        "    end_time = datetime.datetime.now()\n",
        "    elapsed_time = (end_time - start_time).total_seconds()\n",
        "    size_of_float = np.dtype(np.float64).itemsize\n",
        "    memory_required = 3 * n_samples * size_of_float / (1024**3)\n",
        "    print(\"Pi: {}, memory: {} GiB, time: {} s\".format(my_pi, memory_required,\n",
        "                                                      elapsed_time))\n",
        "if __name__ == '__main__':\n",
        "    main()"
      ],
      "metadata": {
        "colab": {
          "base_uri": "https://localhost:8080/"
        },
        "id": "WuPXS8cNZvVK",
        "outputId": "75d7d251-6b76-464b-ae78-1aea53ae2c74"
      },
      "execution_count": 55,
      "outputs": [
        {
          "output_type": "stream",
          "name": "stdout",
          "text": [
            "Pi: 3.6, memory: 2.2351741790771484e-07 GiB, time: 0.000416 s\n"
          ]
        }
      ]
    },
    {
      "cell_type": "code",
      "source": [
        "# Now I am modifying the code to loop over the number of samples"
      ],
      "metadata": {
        "id": "gacceG4Kaitz"
      },
      "execution_count": null,
      "outputs": []
    },
    {
      "cell_type": "code",
      "source": [
        "def main():\n",
        "  array = np.array([])\n",
        "  for n_samples in [10**exp for exp in range(2,9)]:\n",
        "    start_time = datetime.datetime.now()\n",
        "    counts = inside_circle(n_samples)\n",
        "    my_pi = 4.0 * counts / n_samples\n",
        "    end_time = datetime.datetime.now()\n",
        "    elapsed_time = (end_time - start_time).total_seconds()\n",
        "    size_of_float = np.dtype(np.float64).itemsize\n",
        "    memory_required = 3 * n_samples * size_of_float / (1024**3)\n",
        "    #calculating relative error\n",
        "    relative_error = abs(math.pi - my_pi) / math.pi\n",
        "    row = np.append(array, [my_pi, memory_required, elapsed_time, n_samples, relative_error])\n",
        "    array = np.append(array, row)\n",
        "\n",
        "    print(\"Pi: {}, memory: {} GiB, time: {} s, Number of Samples: {}, Relative Error: {}\".format(my_pi, memory_required,\n",
        "                                                      elapsed_time, n_samples, relative_error))\n",
        "  array = array.reshape(-1,5)\n",
        "  np.savetxt(\"results.csv\", array, delimiter=\",\")\n",
        "\n",
        "if __name__ == '__main__':\n",
        "  main()"
      ],
      "metadata": {
        "id": "B52VXS8MbS0t",
        "colab": {
          "base_uri": "https://localhost:8080/"
        },
        "outputId": "68230d00-2584-44ae-f609-80e4b198302f"
      },
      "execution_count": 59,
      "outputs": [
        {
          "output_type": "stream",
          "name": "stdout",
          "text": [
            "Pi: 2.96, memory: 2.2351741790771484e-06 GiB, time: 0.000164 s, Number of Samples: 100, Relative Error: 0.05780273689597959\n",
            "Pi: 3.164, memory: 2.2351741790771484e-05 GiB, time: 0.00067 s, Number of Samples: 1000, Relative Error: 0.0071324798855137705\n",
            "Pi: 3.1552, memory: 0.00022351741790771484 GiB, time: 0.00053 s, Number of Samples: 10000, Relative Error: 0.004331352887096297\n",
            "Pi: 3.1472, memory: 0.0022351741790771484 GiB, time: 0.003453 s, Number of Samples: 100000, Relative Error: 0.0017848737976261103\n",
            "Pi: 3.143092, memory: 0.022351741790771484 GiB, time: 0.038611 s, Number of Samples: 1000000, Relative Error: 0.0004772567851830981\n",
            "Pi: 3.1416304, memory: 0.22351741790771484 GiB, time: 0.412489 s, Number of Samples: 10000000, Relative Error: 1.2015055536778953e-05\n",
            "Pi: 3.14154824, memory: 2.2351741790771484 GiB, time: 4.12251 s, Number of Samples: 100000000, Relative Error: 1.4137284712027577e-05\n"
          ]
        }
      ]
    },
    {
      "cell_type": "code",
      "source": [
        "data = np.loadtxt(\"results.csv\", delimiter=\",\")\n",
        "print(data)"
      ],
      "metadata": {
        "colab": {
          "base_uri": "https://localhost:8080/"
        },
        "id": "Z3utPhCPhKds",
        "outputId": "e85de44e-34c0-46f6-c245-8b8964b7a6a4"
      },
      "execution_count": 60,
      "outputs": [
        {
          "output_type": "stream",
          "name": "stdout",
          "text": [
            "[[2.96000000e+00 2.23517418e-06 1.64000000e-04 1.00000000e+02\n",
            "  5.78027369e-02]\n",
            " [2.96000000e+00 2.23517418e-06 1.64000000e-04 1.00000000e+02\n",
            "  5.78027369e-02]\n",
            " [3.16400000e+00 2.23517418e-05 6.70000000e-04 1.00000000e+03\n",
            "  7.13247989e-03]\n",
            " [2.96000000e+00 2.23517418e-06 1.64000000e-04 1.00000000e+02\n",
            "  5.78027369e-02]\n",
            " [2.96000000e+00 2.23517418e-06 1.64000000e-04 1.00000000e+02\n",
            "  5.78027369e-02]\n",
            " [3.16400000e+00 2.23517418e-05 6.70000000e-04 1.00000000e+03\n",
            "  7.13247989e-03]\n",
            " [3.15520000e+00 2.23517418e-04 5.30000000e-04 1.00000000e+04\n",
            "  4.33135289e-03]\n",
            " [2.96000000e+00 2.23517418e-06 1.64000000e-04 1.00000000e+02\n",
            "  5.78027369e-02]\n",
            " [2.96000000e+00 2.23517418e-06 1.64000000e-04 1.00000000e+02\n",
            "  5.78027369e-02]\n",
            " [3.16400000e+00 2.23517418e-05 6.70000000e-04 1.00000000e+03\n",
            "  7.13247989e-03]\n",
            " [2.96000000e+00 2.23517418e-06 1.64000000e-04 1.00000000e+02\n",
            "  5.78027369e-02]\n",
            " [2.96000000e+00 2.23517418e-06 1.64000000e-04 1.00000000e+02\n",
            "  5.78027369e-02]\n",
            " [3.16400000e+00 2.23517418e-05 6.70000000e-04 1.00000000e+03\n",
            "  7.13247989e-03]\n",
            " [3.15520000e+00 2.23517418e-04 5.30000000e-04 1.00000000e+04\n",
            "  4.33135289e-03]\n",
            " [3.14720000e+00 2.23517418e-03 3.45300000e-03 1.00000000e+05\n",
            "  1.78487380e-03]\n",
            " [2.96000000e+00 2.23517418e-06 1.64000000e-04 1.00000000e+02\n",
            "  5.78027369e-02]\n",
            " [2.96000000e+00 2.23517418e-06 1.64000000e-04 1.00000000e+02\n",
            "  5.78027369e-02]\n",
            " [3.16400000e+00 2.23517418e-05 6.70000000e-04 1.00000000e+03\n",
            "  7.13247989e-03]\n",
            " [2.96000000e+00 2.23517418e-06 1.64000000e-04 1.00000000e+02\n",
            "  5.78027369e-02]\n",
            " [2.96000000e+00 2.23517418e-06 1.64000000e-04 1.00000000e+02\n",
            "  5.78027369e-02]\n",
            " [3.16400000e+00 2.23517418e-05 6.70000000e-04 1.00000000e+03\n",
            "  7.13247989e-03]\n",
            " [3.15520000e+00 2.23517418e-04 5.30000000e-04 1.00000000e+04\n",
            "  4.33135289e-03]\n",
            " [2.96000000e+00 2.23517418e-06 1.64000000e-04 1.00000000e+02\n",
            "  5.78027369e-02]\n",
            " [2.96000000e+00 2.23517418e-06 1.64000000e-04 1.00000000e+02\n",
            "  5.78027369e-02]\n",
            " [3.16400000e+00 2.23517418e-05 6.70000000e-04 1.00000000e+03\n",
            "  7.13247989e-03]\n",
            " [2.96000000e+00 2.23517418e-06 1.64000000e-04 1.00000000e+02\n",
            "  5.78027369e-02]\n",
            " [2.96000000e+00 2.23517418e-06 1.64000000e-04 1.00000000e+02\n",
            "  5.78027369e-02]\n",
            " [3.16400000e+00 2.23517418e-05 6.70000000e-04 1.00000000e+03\n",
            "  7.13247989e-03]\n",
            " [3.15520000e+00 2.23517418e-04 5.30000000e-04 1.00000000e+04\n",
            "  4.33135289e-03]\n",
            " [3.14720000e+00 2.23517418e-03 3.45300000e-03 1.00000000e+05\n",
            "  1.78487380e-03]\n",
            " [3.14309200e+00 2.23517418e-02 3.86110000e-02 1.00000000e+06\n",
            "  4.77256785e-04]\n",
            " [2.96000000e+00 2.23517418e-06 1.64000000e-04 1.00000000e+02\n",
            "  5.78027369e-02]\n",
            " [2.96000000e+00 2.23517418e-06 1.64000000e-04 1.00000000e+02\n",
            "  5.78027369e-02]\n",
            " [3.16400000e+00 2.23517418e-05 6.70000000e-04 1.00000000e+03\n",
            "  7.13247989e-03]\n",
            " [2.96000000e+00 2.23517418e-06 1.64000000e-04 1.00000000e+02\n",
            "  5.78027369e-02]\n",
            " [2.96000000e+00 2.23517418e-06 1.64000000e-04 1.00000000e+02\n",
            "  5.78027369e-02]\n",
            " [3.16400000e+00 2.23517418e-05 6.70000000e-04 1.00000000e+03\n",
            "  7.13247989e-03]\n",
            " [3.15520000e+00 2.23517418e-04 5.30000000e-04 1.00000000e+04\n",
            "  4.33135289e-03]\n",
            " [2.96000000e+00 2.23517418e-06 1.64000000e-04 1.00000000e+02\n",
            "  5.78027369e-02]\n",
            " [2.96000000e+00 2.23517418e-06 1.64000000e-04 1.00000000e+02\n",
            "  5.78027369e-02]\n",
            " [3.16400000e+00 2.23517418e-05 6.70000000e-04 1.00000000e+03\n",
            "  7.13247989e-03]\n",
            " [2.96000000e+00 2.23517418e-06 1.64000000e-04 1.00000000e+02\n",
            "  5.78027369e-02]\n",
            " [2.96000000e+00 2.23517418e-06 1.64000000e-04 1.00000000e+02\n",
            "  5.78027369e-02]\n",
            " [3.16400000e+00 2.23517418e-05 6.70000000e-04 1.00000000e+03\n",
            "  7.13247989e-03]\n",
            " [3.15520000e+00 2.23517418e-04 5.30000000e-04 1.00000000e+04\n",
            "  4.33135289e-03]\n",
            " [3.14720000e+00 2.23517418e-03 3.45300000e-03 1.00000000e+05\n",
            "  1.78487380e-03]\n",
            " [2.96000000e+00 2.23517418e-06 1.64000000e-04 1.00000000e+02\n",
            "  5.78027369e-02]\n",
            " [2.96000000e+00 2.23517418e-06 1.64000000e-04 1.00000000e+02\n",
            "  5.78027369e-02]\n",
            " [3.16400000e+00 2.23517418e-05 6.70000000e-04 1.00000000e+03\n",
            "  7.13247989e-03]\n",
            " [2.96000000e+00 2.23517418e-06 1.64000000e-04 1.00000000e+02\n",
            "  5.78027369e-02]\n",
            " [2.96000000e+00 2.23517418e-06 1.64000000e-04 1.00000000e+02\n",
            "  5.78027369e-02]\n",
            " [3.16400000e+00 2.23517418e-05 6.70000000e-04 1.00000000e+03\n",
            "  7.13247989e-03]\n",
            " [3.15520000e+00 2.23517418e-04 5.30000000e-04 1.00000000e+04\n",
            "  4.33135289e-03]\n",
            " [2.96000000e+00 2.23517418e-06 1.64000000e-04 1.00000000e+02\n",
            "  5.78027369e-02]\n",
            " [2.96000000e+00 2.23517418e-06 1.64000000e-04 1.00000000e+02\n",
            "  5.78027369e-02]\n",
            " [3.16400000e+00 2.23517418e-05 6.70000000e-04 1.00000000e+03\n",
            "  7.13247989e-03]\n",
            " [2.96000000e+00 2.23517418e-06 1.64000000e-04 1.00000000e+02\n",
            "  5.78027369e-02]\n",
            " [2.96000000e+00 2.23517418e-06 1.64000000e-04 1.00000000e+02\n",
            "  5.78027369e-02]\n",
            " [3.16400000e+00 2.23517418e-05 6.70000000e-04 1.00000000e+03\n",
            "  7.13247989e-03]\n",
            " [3.15520000e+00 2.23517418e-04 5.30000000e-04 1.00000000e+04\n",
            "  4.33135289e-03]\n",
            " [3.14720000e+00 2.23517418e-03 3.45300000e-03 1.00000000e+05\n",
            "  1.78487380e-03]\n",
            " [3.14309200e+00 2.23517418e-02 3.86110000e-02 1.00000000e+06\n",
            "  4.77256785e-04]\n",
            " [3.14163040e+00 2.23517418e-01 4.12489000e-01 1.00000000e+07\n",
            "  1.20150555e-05]\n",
            " [2.96000000e+00 2.23517418e-06 1.64000000e-04 1.00000000e+02\n",
            "  5.78027369e-02]\n",
            " [2.96000000e+00 2.23517418e-06 1.64000000e-04 1.00000000e+02\n",
            "  5.78027369e-02]\n",
            " [3.16400000e+00 2.23517418e-05 6.70000000e-04 1.00000000e+03\n",
            "  7.13247989e-03]\n",
            " [2.96000000e+00 2.23517418e-06 1.64000000e-04 1.00000000e+02\n",
            "  5.78027369e-02]\n",
            " [2.96000000e+00 2.23517418e-06 1.64000000e-04 1.00000000e+02\n",
            "  5.78027369e-02]\n",
            " [3.16400000e+00 2.23517418e-05 6.70000000e-04 1.00000000e+03\n",
            "  7.13247989e-03]\n",
            " [3.15520000e+00 2.23517418e-04 5.30000000e-04 1.00000000e+04\n",
            "  4.33135289e-03]\n",
            " [2.96000000e+00 2.23517418e-06 1.64000000e-04 1.00000000e+02\n",
            "  5.78027369e-02]\n",
            " [2.96000000e+00 2.23517418e-06 1.64000000e-04 1.00000000e+02\n",
            "  5.78027369e-02]\n",
            " [3.16400000e+00 2.23517418e-05 6.70000000e-04 1.00000000e+03\n",
            "  7.13247989e-03]\n",
            " [2.96000000e+00 2.23517418e-06 1.64000000e-04 1.00000000e+02\n",
            "  5.78027369e-02]\n",
            " [2.96000000e+00 2.23517418e-06 1.64000000e-04 1.00000000e+02\n",
            "  5.78027369e-02]\n",
            " [3.16400000e+00 2.23517418e-05 6.70000000e-04 1.00000000e+03\n",
            "  7.13247989e-03]\n",
            " [3.15520000e+00 2.23517418e-04 5.30000000e-04 1.00000000e+04\n",
            "  4.33135289e-03]\n",
            " [3.14720000e+00 2.23517418e-03 3.45300000e-03 1.00000000e+05\n",
            "  1.78487380e-03]\n",
            " [2.96000000e+00 2.23517418e-06 1.64000000e-04 1.00000000e+02\n",
            "  5.78027369e-02]\n",
            " [2.96000000e+00 2.23517418e-06 1.64000000e-04 1.00000000e+02\n",
            "  5.78027369e-02]\n",
            " [3.16400000e+00 2.23517418e-05 6.70000000e-04 1.00000000e+03\n",
            "  7.13247989e-03]\n",
            " [2.96000000e+00 2.23517418e-06 1.64000000e-04 1.00000000e+02\n",
            "  5.78027369e-02]\n",
            " [2.96000000e+00 2.23517418e-06 1.64000000e-04 1.00000000e+02\n",
            "  5.78027369e-02]\n",
            " [3.16400000e+00 2.23517418e-05 6.70000000e-04 1.00000000e+03\n",
            "  7.13247989e-03]\n",
            " [3.15520000e+00 2.23517418e-04 5.30000000e-04 1.00000000e+04\n",
            "  4.33135289e-03]\n",
            " [2.96000000e+00 2.23517418e-06 1.64000000e-04 1.00000000e+02\n",
            "  5.78027369e-02]\n",
            " [2.96000000e+00 2.23517418e-06 1.64000000e-04 1.00000000e+02\n",
            "  5.78027369e-02]\n",
            " [3.16400000e+00 2.23517418e-05 6.70000000e-04 1.00000000e+03\n",
            "  7.13247989e-03]\n",
            " [2.96000000e+00 2.23517418e-06 1.64000000e-04 1.00000000e+02\n",
            "  5.78027369e-02]\n",
            " [2.96000000e+00 2.23517418e-06 1.64000000e-04 1.00000000e+02\n",
            "  5.78027369e-02]\n",
            " [3.16400000e+00 2.23517418e-05 6.70000000e-04 1.00000000e+03\n",
            "  7.13247989e-03]\n",
            " [3.15520000e+00 2.23517418e-04 5.30000000e-04 1.00000000e+04\n",
            "  4.33135289e-03]\n",
            " [3.14720000e+00 2.23517418e-03 3.45300000e-03 1.00000000e+05\n",
            "  1.78487380e-03]\n",
            " [3.14309200e+00 2.23517418e-02 3.86110000e-02 1.00000000e+06\n",
            "  4.77256785e-04]\n",
            " [2.96000000e+00 2.23517418e-06 1.64000000e-04 1.00000000e+02\n",
            "  5.78027369e-02]\n",
            " [2.96000000e+00 2.23517418e-06 1.64000000e-04 1.00000000e+02\n",
            "  5.78027369e-02]\n",
            " [3.16400000e+00 2.23517418e-05 6.70000000e-04 1.00000000e+03\n",
            "  7.13247989e-03]\n",
            " [2.96000000e+00 2.23517418e-06 1.64000000e-04 1.00000000e+02\n",
            "  5.78027369e-02]\n",
            " [2.96000000e+00 2.23517418e-06 1.64000000e-04 1.00000000e+02\n",
            "  5.78027369e-02]\n",
            " [3.16400000e+00 2.23517418e-05 6.70000000e-04 1.00000000e+03\n",
            "  7.13247989e-03]\n",
            " [3.15520000e+00 2.23517418e-04 5.30000000e-04 1.00000000e+04\n",
            "  4.33135289e-03]\n",
            " [2.96000000e+00 2.23517418e-06 1.64000000e-04 1.00000000e+02\n",
            "  5.78027369e-02]\n",
            " [2.96000000e+00 2.23517418e-06 1.64000000e-04 1.00000000e+02\n",
            "  5.78027369e-02]\n",
            " [3.16400000e+00 2.23517418e-05 6.70000000e-04 1.00000000e+03\n",
            "  7.13247989e-03]\n",
            " [2.96000000e+00 2.23517418e-06 1.64000000e-04 1.00000000e+02\n",
            "  5.78027369e-02]\n",
            " [2.96000000e+00 2.23517418e-06 1.64000000e-04 1.00000000e+02\n",
            "  5.78027369e-02]\n",
            " [3.16400000e+00 2.23517418e-05 6.70000000e-04 1.00000000e+03\n",
            "  7.13247989e-03]\n",
            " [3.15520000e+00 2.23517418e-04 5.30000000e-04 1.00000000e+04\n",
            "  4.33135289e-03]\n",
            " [3.14720000e+00 2.23517418e-03 3.45300000e-03 1.00000000e+05\n",
            "  1.78487380e-03]\n",
            " [2.96000000e+00 2.23517418e-06 1.64000000e-04 1.00000000e+02\n",
            "  5.78027369e-02]\n",
            " [2.96000000e+00 2.23517418e-06 1.64000000e-04 1.00000000e+02\n",
            "  5.78027369e-02]\n",
            " [3.16400000e+00 2.23517418e-05 6.70000000e-04 1.00000000e+03\n",
            "  7.13247989e-03]\n",
            " [2.96000000e+00 2.23517418e-06 1.64000000e-04 1.00000000e+02\n",
            "  5.78027369e-02]\n",
            " [2.96000000e+00 2.23517418e-06 1.64000000e-04 1.00000000e+02\n",
            "  5.78027369e-02]\n",
            " [3.16400000e+00 2.23517418e-05 6.70000000e-04 1.00000000e+03\n",
            "  7.13247989e-03]\n",
            " [3.15520000e+00 2.23517418e-04 5.30000000e-04 1.00000000e+04\n",
            "  4.33135289e-03]\n",
            " [2.96000000e+00 2.23517418e-06 1.64000000e-04 1.00000000e+02\n",
            "  5.78027369e-02]\n",
            " [2.96000000e+00 2.23517418e-06 1.64000000e-04 1.00000000e+02\n",
            "  5.78027369e-02]\n",
            " [3.16400000e+00 2.23517418e-05 6.70000000e-04 1.00000000e+03\n",
            "  7.13247989e-03]\n",
            " [2.96000000e+00 2.23517418e-06 1.64000000e-04 1.00000000e+02\n",
            "  5.78027369e-02]\n",
            " [2.96000000e+00 2.23517418e-06 1.64000000e-04 1.00000000e+02\n",
            "  5.78027369e-02]\n",
            " [3.16400000e+00 2.23517418e-05 6.70000000e-04 1.00000000e+03\n",
            "  7.13247989e-03]\n",
            " [3.15520000e+00 2.23517418e-04 5.30000000e-04 1.00000000e+04\n",
            "  4.33135289e-03]\n",
            " [3.14720000e+00 2.23517418e-03 3.45300000e-03 1.00000000e+05\n",
            "  1.78487380e-03]\n",
            " [3.14309200e+00 2.23517418e-02 3.86110000e-02 1.00000000e+06\n",
            "  4.77256785e-04]\n",
            " [3.14163040e+00 2.23517418e-01 4.12489000e-01 1.00000000e+07\n",
            "  1.20150555e-05]\n",
            " [3.14154824e+00 2.23517418e+00 4.12251000e+00 1.00000000e+08\n",
            "  1.41372847e-05]]\n"
          ]
        }
      ]
    },
    {
      "cell_type": "code",
      "source": [
        "import numpy as np\n",
        "import matplotlib.pyplot as plt\n",
        "import math\n",
        "\n",
        "NVal = data[:, 0]\n",
        "logN = []\n",
        "for n in range(len(NVal)):\n",
        "    logN.append(math.log(NVal[n], 10))\n",
        "\n",
        "ErrVal = data[:, 2]\n",
        "logErr = []\n",
        "for err in ErrVal:\n",
        "    logErr.append(math.log(err, 10))\n",
        "\n",
        "plt.scatter(logN, logErr)\n",
        "plt.xlabel('log10(N)')\n",
        "plt.ylabel('log10(Relative Error)')\n",
        "plt.title('Log-Log Plot of N vs. Relative Error')\n",
        "plt.show()\n",
        "z = np.polyfit(logN, logErr, 1)\n",
        "p = np.poly1d(z)\n"
      ],
      "metadata": {
        "colab": {
          "base_uri": "https://localhost:8080/",
          "height": 472
        },
        "id": "asr7x_0jIWsz",
        "outputId": "98c7de99-a774-4cdc-e662-cf22f3140124"
      },
      "execution_count": 71,
      "outputs": [
        {
          "output_type": "display_data",
          "data": {
            "text/plain": [
              "<Figure size 640x480 with 1 Axes>"
            ],
            "image/png": "[encoded data removed]"
          },
          "metadata": {}
        }
      ]
    },
    {
      "cell_type": "markdown",
      "source": [
        "7.\n",
        "a.) As N is increased, the accuracy is improved. The error decreases by around a factor of 3 or 4. It does not decrease by a factor of 10.\n",
        "\n",
        "b.)The memory increases by a factor of 10, each time the sample size by a factor of 10. On a log log plot the slope of the trendline would be 1.\n",
        "\n",
        "c.) I'd expect that it would be linear because when the sample increases by a factor of 10, the time also increases by around a factor of 10."
      ],
      "metadata": {
        "id": "GIhtX2PdCJ0l"
      }
    },
    {
      "cell_type": "code",
      "source": [
        "#Adding a trendline and getting slope\n"
      ],
      "metadata": {
        "id": "xjO1SSy4Idyd"
      },
      "execution_count": null,
      "outputs": []
    }
  ]
}