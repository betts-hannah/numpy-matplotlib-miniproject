{
  "nbformat": 4,
  "nbformat_minor": 0,
  "metadata": {
    "colab": {
      "provenance": [],
      "authorship_tag": "ABX9TyPPiHuyKjVC8cRSp4H4NyaB",
      "include_colab_link": true
    },
    "kernelspec": {
      "name": "python3",
      "display_name": "Python 3"
    },
    "language_info": {
      "name": "python"
    }
  },
  "cells": [
    {
      "cell_type": "markdown",
      "metadata": {
        "id": "view-in-github",
        "colab_type": "text"
      },
      "source": [
        "<a href=\"https://colab.research.google.com/github/betts-hannah/numpy-matplotlib-miniproject/blob/main/numpy_matplotlib_mini.ipynb\" target=\"_parent\"><img src=\"https://colab.research.google.com/assets/colab-badge.svg\" alt=\"Open In Colab\"/></a>"
      ]
    },
    {
      "cell_type": "code",
      "source": [
        "# Hannah Betts\n",
        "# Scientific Computing SP25"
      ],
      "metadata": {
        "id": "9uEebmYtc33g"
      },
      "execution_count": 3,
      "outputs": []
    },
    {
      "cell_type": "code",
      "execution_count": 4,
      "metadata": {
        "id": "Fe-ps8AcRSO0"
      },
      "outputs": [],
      "source": [
        "import numpy as np\n",
        "import sys"
      ]
    },
    {
      "cell_type": "code",
      "source": [
        "def inside_circle(total_count):\n",
        "    x = np.random.uniform(size=total_count)\n",
        "    y = np.random.uniform(size=total_count)\n",
        "    radii = np.sqrt(x*x + y*y)\n",
        "    count = len(radii[np.where(radii<=1.0)])\n",
        "    return count"
      ],
      "metadata": {
        "id": "mz1C7spaSJ7T"
      },
      "execution_count": 5,
      "outputs": []
    },
    {
      "cell_type": "code",
      "source": [
        "def main():\n",
        "    n_samples = int(10)\n",
        "    counts = inside_circle(n_samples)\n",
        "    my_pi = 4.0 * counts / n_samples\n",
        "    size_of_float = np.dtype(np.float64).itemsize\n",
        "    memory_required = 3 * n_samples * size_of_float / (1024**3)\n",
        "    print(\"Pi: {}, memory: {} GiB\".format(my_pi, memory_required))\n",
        "\n",
        "\n",
        "if __name__ == '__main__':\n",
        "    main()"
      ],
      "metadata": {
        "colab": {
          "base_uri": "https://localhost:8080/"
        },
        "id": "sabEgXGxSO2C",
        "outputId": "01631335-c92c-4803-8322-d245c035f135"
      },
      "execution_count": 6,
      "outputs": [
        {
          "output_type": "stream",
          "name": "stdout",
          "text": [
            "Pi: 3.2, memory: 2.2351741790771484e-07 GiB\n"
          ]
        }
      ]
    },
    {
      "cell_type": "code",
      "source": [
        "import numpy as np\n",
        "import sys\n",
        "import datetime\n",
        "import math"
      ],
      "metadata": {
        "id": "YAwTn2DrAS2j"
      },
      "execution_count": 7,
      "outputs": []
    },
    {
      "cell_type": "code",
      "source": [
        "def inside_circle(total_count):\n",
        "    x = np.random.uniform(size=total_count)\n",
        "    y = np.random.uniform(size=total_count)\n",
        "    radii = np.sqrt(x*x + y*y)\n",
        "    count = len(radii[np.where(radii<=1.0)])\n",
        "    return count"
      ],
      "metadata": {
        "id": "yucMfhtsadh1"
      },
      "execution_count": 8,
      "outputs": []
    },
    {
      "cell_type": "code",
      "source": [
        "start_time = datetime.datetime.now()"
      ],
      "metadata": {
        "id": "GtaRItaMZkhh"
      },
      "execution_count": 9,
      "outputs": []
    },
    {
      "cell_type": "code",
      "source": [
        "end_time = datetime.datetime.now()\n",
        "elapsed_time = (end_time - start_time).total_seconds()"
      ],
      "metadata": {
        "id": "a4MAdjgvZsjo"
      },
      "execution_count": 10,
      "outputs": []
    },
    {
      "cell_type": "code",
      "source": [
        "def main():\n",
        "    n_samples = int(10)\n",
        "    start_time = datetime.datetime.now()\n",
        "    counts = inside_circle(n_samples)\n",
        "    my_pi = 4.0 * counts / n_samples\n",
        "    end_time = datetime.datetime.now()\n",
        "    elapsed_time = (end_time - start_time).total_seconds()\n",
        "    size_of_float = np.dtype(np.float64).itemsize\n",
        "    memory_required = 3 * n_samples * size_of_float / (1024**3)\n",
        "    print(\"Pi: {}, memory: {} GiB, time: {} s\".format(my_pi, memory_required,\n",
        "                                                      elapsed_time))\n",
        "if __name__ == '__main__':\n",
        "    main()"
      ],
      "metadata": {
        "colab": {
          "base_uri": "https://localhost:8080/"
        },
        "id": "WuPXS8cNZvVK",
        "outputId": "d202bf26-9063-415c-9d17-777f99cd88ef"
      },
      "execution_count": 11,
      "outputs": [
        {
          "output_type": "stream",
          "name": "stdout",
          "text": [
            "Pi: 2.4, memory: 2.2351741790771484e-07 GiB, time: 0.000102 s\n"
          ]
        }
      ]
    },
    {
      "cell_type": "code",
      "source": [
        "# Now I am modifying the code to loop over the number of samples"
      ],
      "metadata": {
        "id": "gacceG4Kaitz"
      },
      "execution_count": 12,
      "outputs": []
    },
    {
      "cell_type": "code",
      "source": [
        "def main():\n",
        "  array = np.array([])\n",
        "  for n_samples in [10**exp for exp in range(2,9)]:\n",
        "    start_time = datetime.datetime.now()\n",
        "    counts = inside_circle(n_samples)\n",
        "    my_pi = 4.0 * counts / n_samples\n",
        "    end_time = datetime.datetime.now()\n",
        "    elapsed_time = (end_time - start_time).total_seconds()\n",
        "    size_of_float = np.dtype(np.float64).itemsize\n",
        "    memory_required = 3 * n_samples * size_of_float / (1024**3)\n",
        "    #calculating relative error\n",
        "    relative_error = abs(math.pi - my_pi) / math.pi\n",
        "    index = np.append(array, [my_pi, memory_required, elapsed_time, n_samples, relative_error])\n",
        "    array = np.append(array, index)\n",
        "\n",
        "    print(\"Pi: {}, memory: {} GiB, time: {} s, Number of Samples: {}, Relative Error: {}\".format(my_pi, memory_required,\n",
        "                                                      elapsed_time, n_samples, relative_error))\n",
        "  array = array.reshape(-1,5)\n",
        "  np.savetxt(\"results.csv\", array, delimiter=\",\")\n",
        "\n",
        "if __name__ == '__main__':\n",
        "  main()"
      ],
      "metadata": {
        "id": "B52VXS8MbS0t",
        "colab": {
          "base_uri": "https://localhost:8080/"
        },
        "outputId": "51d457fc-bb3d-4630-b2d0-3a1a6c79eda9"
      },
      "execution_count": 13,
      "outputs": [
        {
          "output_type": "stream",
          "name": "stdout",
          "text": [
            "Pi: 3.04, memory: 2.2351741790771484e-06 GiB, time: 0.000144 s, Number of Samples: 100, Relative Error: 0.03233794600127631\n",
            "Pi: 3.136, memory: 2.2351741790771484e-05 GiB, time: 0.000679 s, Number of Samples: 1000, Relative Error: 0.0017801969276323767\n",
            "Pi: 3.1516, memory: 0.00022351741790771484 GiB, time: 0.000322 s, Number of Samples: 10000, Relative Error: 0.0031854372968347765\n",
            "Pi: 3.14496, memory: 0.0022351741790771484 GiB, time: 0.005653 s, Number of Samples: 100000, Relative Error: 0.001071859652574413\n",
            "Pi: 3.14606, memory: 0.022351741790771484 GiB, time: 0.025028 s, Number of Samples: 1000000, Relative Error: 0.0014220005273764735\n",
            "Pi: 3.1416916, memory: 0.22351741790771484 GiB, time: 0.22529 s, Number of Samples: 10000000, Relative Error: 3.149562057129237e-05\n",
            "Pi: 3.14162408, memory: 2.2351741790771484 GiB, time: 2.208812 s, Number of Samples: 100000000, Relative Error: 1.0003337056166769e-05\n"
          ]
        }
      ]
    },
    {
      "cell_type": "code",
      "source": [
        "data = np.loadtxt(\"results.csv\", delimiter=\",\")\n",
        "data"
      ],
      "metadata": {
        "colab": {
          "base_uri": "https://localhost:8080/"
        },
        "id": "Z3utPhCPhKds",
        "outputId": "8e30dabf-fb0f-4d36-a2b0-3abf8970c42a"
      },
      "execution_count": 14,
      "outputs": [
        {
          "output_type": "execute_result",
          "data": {
            "text/plain": [
              "array([[3.04000000e+00, 2.23517418e-06, 1.44000000e-04, 1.00000000e+02,\n",
              "        3.23379460e-02],\n",
              "       [3.04000000e+00, 2.23517418e-06, 1.44000000e-04, 1.00000000e+02,\n",
              "        3.23379460e-02],\n",
              "       [3.13600000e+00, 2.23517418e-05, 6.79000000e-04, 1.00000000e+03,\n",
              "        1.78019693e-03],\n",
              "       [3.04000000e+00, 2.23517418e-06, 1.44000000e-04, 1.00000000e+02,\n",
              "        3.23379460e-02],\n",
              "       [3.04000000e+00, 2.23517418e-06, 1.44000000e-04, 1.00000000e+02,\n",
              "        3.23379460e-02],\n",
              "       [3.13600000e+00, 2.23517418e-05, 6.79000000e-04, 1.00000000e+03,\n",
              "        1.78019693e-03],\n",
              "       [3.15160000e+00, 2.23517418e-04, 3.22000000e-04, 1.00000000e+04,\n",
              "        3.18543730e-03],\n",
              "       [3.04000000e+00, 2.23517418e-06, 1.44000000e-04, 1.00000000e+02,\n",
              "        3.23379460e-02],\n",
              "       [3.04000000e+00, 2.23517418e-06, 1.44000000e-04, 1.00000000e+02,\n",
              "        3.23379460e-02],\n",
              "       [3.13600000e+00, 2.23517418e-05, 6.79000000e-04, 1.00000000e+03,\n",
              "        1.78019693e-03],\n",
              "       [3.04000000e+00, 2.23517418e-06, 1.44000000e-04, 1.00000000e+02,\n",
              "        3.23379460e-02],\n",
              "       [3.04000000e+00, 2.23517418e-06, 1.44000000e-04, 1.00000000e+02,\n",
              "        3.23379460e-02],\n",
              "       [3.13600000e+00, 2.23517418e-05, 6.79000000e-04, 1.00000000e+03,\n",
              "        1.78019693e-03],\n",
              "       [3.15160000e+00, 2.23517418e-04, 3.22000000e-04, 1.00000000e+04,\n",
              "        3.18543730e-03],\n",
              "       [3.14496000e+00, 2.23517418e-03, 5.65300000e-03, 1.00000000e+05,\n",
              "        1.07185965e-03],\n",
              "       [3.04000000e+00, 2.23517418e-06, 1.44000000e-04, 1.00000000e+02,\n",
              "        3.23379460e-02],\n",
              "       [3.04000000e+00, 2.23517418e-06, 1.44000000e-04, 1.00000000e+02,\n",
              "        3.23379460e-02],\n",
              "       [3.13600000e+00, 2.23517418e-05, 6.79000000e-04, 1.00000000e+03,\n",
              "        1.78019693e-03],\n",
              "       [3.04000000e+00, 2.23517418e-06, 1.44000000e-04, 1.00000000e+02,\n",
              "        3.23379460e-02],\n",
              "       [3.04000000e+00, 2.23517418e-06, 1.44000000e-04, 1.00000000e+02,\n",
              "        3.23379460e-02],\n",
              "       [3.13600000e+00, 2.23517418e-05, 6.79000000e-04, 1.00000000e+03,\n",
              "        1.78019693e-03],\n",
              "       [3.15160000e+00, 2.23517418e-04, 3.22000000e-04, 1.00000000e+04,\n",
              "        3.18543730e-03],\n",
              "       [3.04000000e+00, 2.23517418e-06, 1.44000000e-04, 1.00000000e+02,\n",
              "        3.23379460e-02],\n",
              "       [3.04000000e+00, 2.23517418e-06, 1.44000000e-04, 1.00000000e+02,\n",
              "        3.23379460e-02],\n",
              "       [3.13600000e+00, 2.23517418e-05, 6.79000000e-04, 1.00000000e+03,\n",
              "        1.78019693e-03],\n",
              "       [3.04000000e+00, 2.23517418e-06, 1.44000000e-04, 1.00000000e+02,\n",
              "        3.23379460e-02],\n",
              "       [3.04000000e+00, 2.23517418e-06, 1.44000000e-04, 1.00000000e+02,\n",
              "        3.23379460e-02],\n",
              "       [3.13600000e+00, 2.23517418e-05, 6.79000000e-04, 1.00000000e+03,\n",
              "        1.78019693e-03],\n",
              "       [3.15160000e+00, 2.23517418e-04, 3.22000000e-04, 1.00000000e+04,\n",
              "        3.18543730e-03],\n",
              "       [3.14496000e+00, 2.23517418e-03, 5.65300000e-03, 1.00000000e+05,\n",
              "        1.07185965e-03],\n",
              "       [3.14606000e+00, 2.23517418e-02, 2.50280000e-02, 1.00000000e+06,\n",
              "        1.42200053e-03],\n",
              "       [3.04000000e+00, 2.23517418e-06, 1.44000000e-04, 1.00000000e+02,\n",
              "        3.23379460e-02],\n",
              "       [3.04000000e+00, 2.23517418e-06, 1.44000000e-04, 1.00000000e+02,\n",
              "        3.23379460e-02],\n",
              "       [3.13600000e+00, 2.23517418e-05, 6.79000000e-04, 1.00000000e+03,\n",
              "        1.78019693e-03],\n",
              "       [3.04000000e+00, 2.23517418e-06, 1.44000000e-04, 1.00000000e+02,\n",
              "        3.23379460e-02],\n",
              "       [3.04000000e+00, 2.23517418e-06, 1.44000000e-04, 1.00000000e+02,\n",
              "        3.23379460e-02],\n",
              "       [3.13600000e+00, 2.23517418e-05, 6.79000000e-04, 1.00000000e+03,\n",
              "        1.78019693e-03],\n",
              "       [3.15160000e+00, 2.23517418e-04, 3.22000000e-04, 1.00000000e+04,\n",
              "        3.18543730e-03],\n",
              "       [3.04000000e+00, 2.23517418e-06, 1.44000000e-04, 1.00000000e+02,\n",
              "        3.23379460e-02],\n",
              "       [3.04000000e+00, 2.23517418e-06, 1.44000000e-04, 1.00000000e+02,\n",
              "        3.23379460e-02],\n",
              "       [3.13600000e+00, 2.23517418e-05, 6.79000000e-04, 1.00000000e+03,\n",
              "        1.78019693e-03],\n",
              "       [3.04000000e+00, 2.23517418e-06, 1.44000000e-04, 1.00000000e+02,\n",
              "        3.23379460e-02],\n",
              "       [3.04000000e+00, 2.23517418e-06, 1.44000000e-04, 1.00000000e+02,\n",
              "        3.23379460e-02],\n",
              "       [3.13600000e+00, 2.23517418e-05, 6.79000000e-04, 1.00000000e+03,\n",
              "        1.78019693e-03],\n",
              "       [3.15160000e+00, 2.23517418e-04, 3.22000000e-04, 1.00000000e+04,\n",
              "        3.18543730e-03],\n",
              "       [3.14496000e+00, 2.23517418e-03, 5.65300000e-03, 1.00000000e+05,\n",
              "        1.07185965e-03],\n",
              "       [3.04000000e+00, 2.23517418e-06, 1.44000000e-04, 1.00000000e+02,\n",
              "        3.23379460e-02],\n",
              "       [3.04000000e+00, 2.23517418e-06, 1.44000000e-04, 1.00000000e+02,\n",
              "        3.23379460e-02],\n",
              "       [3.13600000e+00, 2.23517418e-05, 6.79000000e-04, 1.00000000e+03,\n",
              "        1.78019693e-03],\n",
              "       [3.04000000e+00, 2.23517418e-06, 1.44000000e-04, 1.00000000e+02,\n",
              "        3.23379460e-02],\n",
              "       [3.04000000e+00, 2.23517418e-06, 1.44000000e-04, 1.00000000e+02,\n",
              "        3.23379460e-02],\n",
              "       [3.13600000e+00, 2.23517418e-05, 6.79000000e-04, 1.00000000e+03,\n",
              "        1.78019693e-03],\n",
              "       [3.15160000e+00, 2.23517418e-04, 3.22000000e-04, 1.00000000e+04,\n",
              "        3.18543730e-03],\n",
              "       [3.04000000e+00, 2.23517418e-06, 1.44000000e-04, 1.00000000e+02,\n",
              "        3.23379460e-02],\n",
              "       [3.04000000e+00, 2.23517418e-06, 1.44000000e-04, 1.00000000e+02,\n",
              "        3.23379460e-02],\n",
              "       [3.13600000e+00, 2.23517418e-05, 6.79000000e-04, 1.00000000e+03,\n",
              "        1.78019693e-03],\n",
              "       [3.04000000e+00, 2.23517418e-06, 1.44000000e-04, 1.00000000e+02,\n",
              "        3.23379460e-02],\n",
              "       [3.04000000e+00, 2.23517418e-06, 1.44000000e-04, 1.00000000e+02,\n",
              "        3.23379460e-02],\n",
              "       [3.13600000e+00, 2.23517418e-05, 6.79000000e-04, 1.00000000e+03,\n",
              "        1.78019693e-03],\n",
              "       [3.15160000e+00, 2.23517418e-04, 3.22000000e-04, 1.00000000e+04,\n",
              "        3.18543730e-03],\n",
              "       [3.14496000e+00, 2.23517418e-03, 5.65300000e-03, 1.00000000e+05,\n",
              "        1.07185965e-03],\n",
              "       [3.14606000e+00, 2.23517418e-02, 2.50280000e-02, 1.00000000e+06,\n",
              "        1.42200053e-03],\n",
              "       [3.14169160e+00, 2.23517418e-01, 2.25290000e-01, 1.00000000e+07,\n",
              "        3.14956206e-05],\n",
              "       [3.04000000e+00, 2.23517418e-06, 1.44000000e-04, 1.00000000e+02,\n",
              "        3.23379460e-02],\n",
              "       [3.04000000e+00, 2.23517418e-06, 1.44000000e-04, 1.00000000e+02,\n",
              "        3.23379460e-02],\n",
              "       [3.13600000e+00, 2.23517418e-05, 6.79000000e-04, 1.00000000e+03,\n",
              "        1.78019693e-03],\n",
              "       [3.04000000e+00, 2.23517418e-06, 1.44000000e-04, 1.00000000e+02,\n",
              "        3.23379460e-02],\n",
              "       [3.04000000e+00, 2.23517418e-06, 1.44000000e-04, 1.00000000e+02,\n",
              "        3.23379460e-02],\n",
              "       [3.13600000e+00, 2.23517418e-05, 6.79000000e-04, 1.00000000e+03,\n",
              "        1.78019693e-03],\n",
              "       [3.15160000e+00, 2.23517418e-04, 3.22000000e-04, 1.00000000e+04,\n",
              "        3.18543730e-03],\n",
              "       [3.04000000e+00, 2.23517418e-06, 1.44000000e-04, 1.00000000e+02,\n",
              "        3.23379460e-02],\n",
              "       [3.04000000e+00, 2.23517418e-06, 1.44000000e-04, 1.00000000e+02,\n",
              "        3.23379460e-02],\n",
              "       [3.13600000e+00, 2.23517418e-05, 6.79000000e-04, 1.00000000e+03,\n",
              "        1.78019693e-03],\n",
              "       [3.04000000e+00, 2.23517418e-06, 1.44000000e-04, 1.00000000e+02,\n",
              "        3.23379460e-02],\n",
              "       [3.04000000e+00, 2.23517418e-06, 1.44000000e-04, 1.00000000e+02,\n",
              "        3.23379460e-02],\n",
              "       [3.13600000e+00, 2.23517418e-05, 6.79000000e-04, 1.00000000e+03,\n",
              "        1.78019693e-03],\n",
              "       [3.15160000e+00, 2.23517418e-04, 3.22000000e-04, 1.00000000e+04,\n",
              "        3.18543730e-03],\n",
              "       [3.14496000e+00, 2.23517418e-03, 5.65300000e-03, 1.00000000e+05,\n",
              "        1.07185965e-03],\n",
              "       [3.04000000e+00, 2.23517418e-06, 1.44000000e-04, 1.00000000e+02,\n",
              "        3.23379460e-02],\n",
              "       [3.04000000e+00, 2.23517418e-06, 1.44000000e-04, 1.00000000e+02,\n",
              "        3.23379460e-02],\n",
              "       [3.13600000e+00, 2.23517418e-05, 6.79000000e-04, 1.00000000e+03,\n",
              "        1.78019693e-03],\n",
              "       [3.04000000e+00, 2.23517418e-06, 1.44000000e-04, 1.00000000e+02,\n",
              "        3.23379460e-02],\n",
              "       [3.04000000e+00, 2.23517418e-06, 1.44000000e-04, 1.00000000e+02,\n",
              "        3.23379460e-02],\n",
              "       [3.13600000e+00, 2.23517418e-05, 6.79000000e-04, 1.00000000e+03,\n",
              "        1.78019693e-03],\n",
              "       [3.15160000e+00, 2.23517418e-04, 3.22000000e-04, 1.00000000e+04,\n",
              "        3.18543730e-03],\n",
              "       [3.04000000e+00, 2.23517418e-06, 1.44000000e-04, 1.00000000e+02,\n",
              "        3.23379460e-02],\n",
              "       [3.04000000e+00, 2.23517418e-06, 1.44000000e-04, 1.00000000e+02,\n",
              "        3.23379460e-02],\n",
              "       [3.13600000e+00, 2.23517418e-05, 6.79000000e-04, 1.00000000e+03,\n",
              "        1.78019693e-03],\n",
              "       [3.04000000e+00, 2.23517418e-06, 1.44000000e-04, 1.00000000e+02,\n",
              "        3.23379460e-02],\n",
              "       [3.04000000e+00, 2.23517418e-06, 1.44000000e-04, 1.00000000e+02,\n",
              "        3.23379460e-02],\n",
              "       [3.13600000e+00, 2.23517418e-05, 6.79000000e-04, 1.00000000e+03,\n",
              "        1.78019693e-03],\n",
              "       [3.15160000e+00, 2.23517418e-04, 3.22000000e-04, 1.00000000e+04,\n",
              "        3.18543730e-03],\n",
              "       [3.14496000e+00, 2.23517418e-03, 5.65300000e-03, 1.00000000e+05,\n",
              "        1.07185965e-03],\n",
              "       [3.14606000e+00, 2.23517418e-02, 2.50280000e-02, 1.00000000e+06,\n",
              "        1.42200053e-03],\n",
              "       [3.04000000e+00, 2.23517418e-06, 1.44000000e-04, 1.00000000e+02,\n",
              "        3.23379460e-02],\n",
              "       [3.04000000e+00, 2.23517418e-06, 1.44000000e-04, 1.00000000e+02,\n",
              "        3.23379460e-02],\n",
              "       [3.13600000e+00, 2.23517418e-05, 6.79000000e-04, 1.00000000e+03,\n",
              "        1.78019693e-03],\n",
              "       [3.04000000e+00, 2.23517418e-06, 1.44000000e-04, 1.00000000e+02,\n",
              "        3.23379460e-02],\n",
              "       [3.04000000e+00, 2.23517418e-06, 1.44000000e-04, 1.00000000e+02,\n",
              "        3.23379460e-02],\n",
              "       [3.13600000e+00, 2.23517418e-05, 6.79000000e-04, 1.00000000e+03,\n",
              "        1.78019693e-03],\n",
              "       [3.15160000e+00, 2.23517418e-04, 3.22000000e-04, 1.00000000e+04,\n",
              "        3.18543730e-03],\n",
              "       [3.04000000e+00, 2.23517418e-06, 1.44000000e-04, 1.00000000e+02,\n",
              "        3.23379460e-02],\n",
              "       [3.04000000e+00, 2.23517418e-06, 1.44000000e-04, 1.00000000e+02,\n",
              "        3.23379460e-02],\n",
              "       [3.13600000e+00, 2.23517418e-05, 6.79000000e-04, 1.00000000e+03,\n",
              "        1.78019693e-03],\n",
              "       [3.04000000e+00, 2.23517418e-06, 1.44000000e-04, 1.00000000e+02,\n",
              "        3.23379460e-02],\n",
              "       [3.04000000e+00, 2.23517418e-06, 1.44000000e-04, 1.00000000e+02,\n",
              "        3.23379460e-02],\n",
              "       [3.13600000e+00, 2.23517418e-05, 6.79000000e-04, 1.00000000e+03,\n",
              "        1.78019693e-03],\n",
              "       [3.15160000e+00, 2.23517418e-04, 3.22000000e-04, 1.00000000e+04,\n",
              "        3.18543730e-03],\n",
              "       [3.14496000e+00, 2.23517418e-03, 5.65300000e-03, 1.00000000e+05,\n",
              "        1.07185965e-03],\n",
              "       [3.04000000e+00, 2.23517418e-06, 1.44000000e-04, 1.00000000e+02,\n",
              "        3.23379460e-02],\n",
              "       [3.04000000e+00, 2.23517418e-06, 1.44000000e-04, 1.00000000e+02,\n",
              "        3.23379460e-02],\n",
              "       [3.13600000e+00, 2.23517418e-05, 6.79000000e-04, 1.00000000e+03,\n",
              "        1.78019693e-03],\n",
              "       [3.04000000e+00, 2.23517418e-06, 1.44000000e-04, 1.00000000e+02,\n",
              "        3.23379460e-02],\n",
              "       [3.04000000e+00, 2.23517418e-06, 1.44000000e-04, 1.00000000e+02,\n",
              "        3.23379460e-02],\n",
              "       [3.13600000e+00, 2.23517418e-05, 6.79000000e-04, 1.00000000e+03,\n",
              "        1.78019693e-03],\n",
              "       [3.15160000e+00, 2.23517418e-04, 3.22000000e-04, 1.00000000e+04,\n",
              "        3.18543730e-03],\n",
              "       [3.04000000e+00, 2.23517418e-06, 1.44000000e-04, 1.00000000e+02,\n",
              "        3.23379460e-02],\n",
              "       [3.04000000e+00, 2.23517418e-06, 1.44000000e-04, 1.00000000e+02,\n",
              "        3.23379460e-02],\n",
              "       [3.13600000e+00, 2.23517418e-05, 6.79000000e-04, 1.00000000e+03,\n",
              "        1.78019693e-03],\n",
              "       [3.04000000e+00, 2.23517418e-06, 1.44000000e-04, 1.00000000e+02,\n",
              "        3.23379460e-02],\n",
              "       [3.04000000e+00, 2.23517418e-06, 1.44000000e-04, 1.00000000e+02,\n",
              "        3.23379460e-02],\n",
              "       [3.13600000e+00, 2.23517418e-05, 6.79000000e-04, 1.00000000e+03,\n",
              "        1.78019693e-03],\n",
              "       [3.15160000e+00, 2.23517418e-04, 3.22000000e-04, 1.00000000e+04,\n",
              "        3.18543730e-03],\n",
              "       [3.14496000e+00, 2.23517418e-03, 5.65300000e-03, 1.00000000e+05,\n",
              "        1.07185965e-03],\n",
              "       [3.14606000e+00, 2.23517418e-02, 2.50280000e-02, 1.00000000e+06,\n",
              "        1.42200053e-03],\n",
              "       [3.14169160e+00, 2.23517418e-01, 2.25290000e-01, 1.00000000e+07,\n",
              "        3.14956206e-05],\n",
              "       [3.14162408e+00, 2.23517418e+00, 2.20881200e+00, 1.00000000e+08,\n",
              "        1.00033371e-05]])"
            ]
          },
          "metadata": {},
          "execution_count": 14
        }
      ]
    },
    {
      "cell_type": "code",
      "source": [
        "#Importing matplot library for graphs\n",
        "import matplotlib.pyplot as plt\n",
        "\n",
        "fig, ax = plt.subplots()\n",
        "\n",
        "#Creating the graph\n",
        "ax.scatter(x=data[:, 3], y=data[:,4])\n",
        "\n",
        "#Labeling the Graph\n",
        "ax.set_xlabel(\"Number of Samples\")\n",
        "ax.set_ylabel(\"Relative Error\")\n",
        "ax.set_title(\"Relative Error vs Number of Samples\")"
      ],
      "metadata": {
        "colab": {
          "base_uri": "https://localhost:8080/",
          "height": 489
        },
        "id": "asr7x_0jIWsz",
        "outputId": "a214d13b-4865-4d30-fbdc-40c8626aad1b"
      },
      "execution_count": 15,
      "outputs": [
        {
          "output_type": "execute_result",
          "data": {
            "text/plain": [
              "Text(0.5, 1.0, 'Relative Error vs Number of Samples')"
            ]
          },
          "metadata": {},
          "execution_count": 15
        },
        {
          "output_type": "display_data",
          "data": {
            "text/plain": [
              "<Figure size 640x480 with 1 Axes>"
            ],
            "image/png": "[encoded data removed]"
          },
          "metadata": {}
        }
      ]
    },
    {
      "cell_type": "code",
      "source": [
        "#Importing matplot library for graphs\n",
        "import matplotlib.pyplot as plt\n",
        "\n",
        "fig, ax = plt.subplots()\n",
        "\n",
        "#Creating the graph\n",
        "ax.scatter(x=data[:, 3], y=data[:,2])\n",
        "\n",
        "#Labeling the Graph\n",
        "ax.set_xlabel(\"Number of Samples\")\n",
        "ax.set_ylabel(\"Time\")\n",
        "ax.set_title(\"Time vs Number of Samples\")"
      ],
      "metadata": {
        "colab": {
          "base_uri": "https://localhost:8080/",
          "height": 489
        },
        "id": "1WYPQosKe_UF",
        "outputId": "2d305972-9cd9-4185-c9c2-e9e150f8f0a9"
      },
      "execution_count": 16,
      "outputs": [
        {
          "output_type": "execute_result",
          "data": {
            "text/plain": [
              "Text(0.5, 1.0, 'Time vs Number of Samples')"
            ]
          },
          "metadata": {},
          "execution_count": 16
        },
        {
          "output_type": "display_data",
          "data": {
            "text/plain": [
              "<Figure size 640x480 with 1 Axes>"
            ],
            "image/png": "[encoded data removed]"
          },
          "metadata": {}
        }
      ]
    },
    {
      "cell_type": "code",
      "source": [
        "#Importing matplot library for graphs\n",
        "import matplotlib.pyplot as plt\n",
        "\n",
        "fig, ax = plt.subplots()\n",
        "\n",
        "#Creating the graph\n",
        "ax.scatter(x=data[:, 3], y=data[:,0])\n",
        "\n",
        "#Labeling the Graph\n",
        "ax.set_xlabel(\"Number of Samples\")\n",
        "ax.set_ylabel(\"Estimate of Pi\")\n",
        "ax.set_title(\"Estimate of Pi vs Number of Samples\")"
      ],
      "metadata": {
        "colab": {
          "base_uri": "https://localhost:8080/",
          "height": 489
        },
        "id": "mmdHJMu4fuT7",
        "outputId": "8d791a8b-1070-45fb-8437-add9bd3d0bea"
      },
      "execution_count": 17,
      "outputs": [
        {
          "output_type": "execute_result",
          "data": {
            "text/plain": [
              "Text(0.5, 1.0, 'Estimate of Pi vs Number of Samples')"
            ]
          },
          "metadata": {},
          "execution_count": 17
        },
        {
          "output_type": "display_data",
          "data": {
            "text/plain": [
              "<Figure size 640x480 with 1 Axes>"
            ],
            "image/png": "[encoded data removed]"
          },
          "metadata": {}
        }
      ]
    },
    {
      "cell_type": "markdown",
      "source": [
        "7.\n",
        "a.) As N is increased, the accuracy is improved. The error decreases by around a factor of 3 or 4. It does not decrease by a factor of 10.\n",
        "\n",
        "b.)The memory increases by a factor of 10, each time the sample size by a factor of 10. On a log log plot the slope of the trendline would be 1.\n",
        "\n",
        "c.) I'd expect that it would be linear because when the sample increases by a factor of 10, the time also increases by around a factor of 10."
      ],
      "metadata": {
        "id": "GIhtX2PdCJ0l"
      }
    },
    {
      "cell_type": "code",
      "source": [
        "#Adding a trendline and getting slope\n"
      ],
      "metadata": {
        "id": "xjO1SSy4Idyd"
      },
      "execution_count": null,
      "outputs": []
    }
  ]
}