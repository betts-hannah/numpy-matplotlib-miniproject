{
  "nbformat": 4,
  "nbformat_minor": 0,
  "metadata": {
    "colab": {
      "provenance": [],
      "authorship_tag": "ABX9TyN9ugOO9O/II4VV6XMysC9m",
      "include_colab_link": true
    },
    "kernelspec": {
      "name": "python3",
      "display_name": "Python 3"
    },
    "language_info": {
      "name": "python"
    }
  },
  "cells": [
    {
      "cell_type": "markdown",
      "metadata": {
        "id": "view-in-github",
        "colab_type": "text"
      },
      "source": [
        "<a href=\"https://colab.research.google.com/github/betts-hannah/numpy-matplotlib-miniproject/blob/main/numpy_matplotlib_mini.ipynb\" target=\"_parent\"><img src=\"https://colab.research.google.com/assets/colab-badge.svg\" alt=\"Open In Colab\"/></a>"
      ]
    },
    {
      "cell_type": "code",
      "source": [
        "# Hannah Betts\n",
        "# Scientific Computing SP25"
      ],
      "metadata": {
        "id": "9uEebmYtc33g"
      },
      "execution_count": null,
      "outputs": []
    },
    {
      "cell_type": "code",
      "execution_count": null,
      "metadata": {
        "id": "Fe-ps8AcRSO0"
      },
      "outputs": [],
      "source": [
        "import numpy as np\n",
        "import sys"
      ]
    },
    {
      "cell_type": "code",
      "source": [
        "def inside_circle(total_count):\n",
        "    x = np.random.uniform(size=total_count)\n",
        "    y = np.random.uniform(size=total_count)\n",
        "    radii = np.sqrt(x*x + y*y)\n",
        "    count = len(radii[np.where(radii<=1.0)])\n",
        "    return count"
      ],
      "metadata": {
        "id": "mz1C7spaSJ7T"
      },
      "execution_count": null,
      "outputs": []
    },
    {
      "cell_type": "code",
      "source": [
        "def main():\n",
        "    n_samples = int(10)\n",
        "    counts = inside_circle(n_samples)\n",
        "    my_pi = 4.0 * counts / n_samples\n",
        "    size_of_float = np.dtype(np.float64).itemsize\n",
        "    memory_required = 3 * n_samples * size_of_float / (1024**3)\n",
        "    print(\"Pi: {}, memory: {} GiB\".format(my_pi, memory_required))\n",
        "\n",
        "\n",
        "if __name__ == '__main__':\n",
        "    main()"
      ],
      "metadata": {
        "colab": {
          "base_uri": "https://localhost:8080/"
        },
        "id": "sabEgXGxSO2C",
        "outputId": "cd9dba54-b6c7-42cf-ed65-45f908597f71"
      },
      "execution_count": null,
      "outputs": [
        {
          "output_type": "stream",
          "name": "stdout",
          "text": [
            "Pi: 3.6, memory: 2.2351741790771484e-07 GiB\n"
          ]
        }
      ]
    },
    {
      "cell_type": "code",
      "source": [
        "import numpy as np\n",
        "import sys\n",
        "import datetime\n",
        "import math"
      ],
      "metadata": {
        "id": "YAwTn2DrAS2j"
      },
      "execution_count": null,
      "outputs": []
    },
    {
      "cell_type": "code",
      "source": [
        "def inside_circle(total_count):\n",
        "    x = np.random.uniform(size=total_count)\n",
        "    y = np.random.uniform(size=total_count)\n",
        "    radii = np.sqrt(x*x + y*y)\n",
        "    count = len(radii[np.where(radii<=1.0)])\n",
        "    return count"
      ],
      "metadata": {
        "id": "yucMfhtsadh1"
      },
      "execution_count": null,
      "outputs": []
    },
    {
      "cell_type": "code",
      "source": [
        "start_time = datetime.datetime.now()"
      ],
      "metadata": {
        "id": "GtaRItaMZkhh"
      },
      "execution_count": null,
      "outputs": []
    },
    {
      "cell_type": "code",
      "source": [
        "end_time = datetime.datetime.now()\n",
        "elapsed_time = (end_time - start_time).total_seconds()"
      ],
      "metadata": {
        "id": "a4MAdjgvZsjo"
      },
      "execution_count": null,
      "outputs": []
    },
    {
      "cell_type": "code",
      "source": [
        "def main():\n",
        "    n_samples = int(10)\n",
        "    start_time = datetime.datetime.now()\n",
        "    counts = inside_circle(n_samples)\n",
        "    my_pi = 4.0 * counts / n_samples\n",
        "    end_time = datetime.datetime.now()\n",
        "    elapsed_time = (end_time - start_time).total_seconds()\n",
        "    size_of_float = np.dtype(np.float64).itemsize\n",
        "    memory_required = 3 * n_samples * size_of_float / (1024**3)\n",
        "    print(\"Pi: {}, memory: {} GiB, time: {} s\".format(my_pi, memory_required,\n",
        "                                                      elapsed_time))\n",
        "if __name__ == '__main__':\n",
        "    main()"
      ],
      "metadata": {
        "colab": {
          "base_uri": "https://localhost:8080/"
        },
        "id": "WuPXS8cNZvVK",
        "outputId": "16687b5f-b32a-4b28-c387-9b3811db4c00"
      },
      "execution_count": null,
      "outputs": [
        {
          "output_type": "stream",
          "name": "stdout",
          "text": [
            "Pi: 3.2, memory: 2.2351741790771484e-07 GiB, time: 0.000128 s\n"
          ]
        }
      ]
    },
    {
      "cell_type": "code",
      "source": [
        "# Now I am modifying the code to loop over the number of samples"
      ],
      "metadata": {
        "id": "gacceG4Kaitz"
      },
      "execution_count": null,
      "outputs": []
    },
    {
      "cell_type": "code",
      "source": [
        "def main():\n",
        "  array = np.array([])\n",
        "  for n_samples in [10**exp for exp in range(2,9)]:\n",
        "    start_time = datetime.datetime.now()\n",
        "    counts = inside_circle(n_samples)\n",
        "    my_pi = 4.0 * counts / n_samples\n",
        "    end_time = datetime.datetime.now()\n",
        "    elapsed_time = (end_time - start_time).total_seconds()\n",
        "    size_of_float = np.dtype(np.float64).itemsize\n",
        "    memory_required = 3 * n_samples * size_of_float / (1024**3)\n",
        "    #calculating relative error\n",
        "    relative_error = abs(math.pi - my_pi) / math.pi\n",
        "    index = np.append(array, [my_pi, memory_required, elapsed_time, n_samples, relative_error])\n",
        "    array = np.append(array, index)\n",
        "\n",
        "    print(\"Pi: {}, memory: {} GiB, time: {} s, Number of Samples: {}, Relative Error: {}\".format(my_pi, memory_required,\n",
        "                                                      elapsed_time, n_samples, relative_error))\n",
        "  array = array.reshape(-1,5)\n",
        "  np.savetxt(\"results.csv\", array, delimiter=\",\")\n",
        "\n",
        "if __name__ == '__main__':\n",
        "  main()"
      ],
      "metadata": {
        "id": "B52VXS8MbS0t",
        "colab": {
          "base_uri": "https://localhost:8080/"
        },
        "outputId": "24b9b78f-be9f-44e4-a80d-da025cf8d984"
      },
      "execution_count": null,
      "outputs": [
        {
          "output_type": "stream",
          "name": "stdout",
          "text": [
            "Pi: 3.2, memory: 2.2351741790771484e-06 GiB, time: 0.000243 s, Number of Samples: 100, Relative Error: 0.018591635788130244\n",
            "Pi: 3.192, memory: 2.2351741790771484e-05 GiB, time: 0.001168 s, Number of Samples: 1000, Relative Error: 0.016045156698659916\n",
            "Pi: 3.1664, memory: 0.00022351741790771484 GiB, time: 0.00059 s, Number of Samples: 10000, Relative Error: 0.007896423612354785\n",
            "Pi: 3.14628, memory: 0.0022351741790771484 GiB, time: 0.004781 s, Number of Samples: 100000, Relative Error: 0.0014920287023369421\n",
            "Pi: 3.141264, memory: 0.022351741790771484 GiB, time: 0.06098 s, Number of Samples: 1000000, Relative Error: 0.0001046136867609231\n",
            "Pi: 3.1415744, memory: 0.22351741790771484 GiB, time: 0.651248 s, Number of Samples: 10000000, Relative Error: 5.810298089460474e-06\n",
            "Pi: 3.14186228, memory: 2.2351741790771484 GiB, time: 7.950296 s, Number of Samples: 100000000, Relative Error: 8.582475194502894e-05\n"
          ]
        }
      ]
    },
    {
      "cell_type": "code",
      "source": [
        "data = np.loadtxt(\"results.csv\", delimiter=\",\")\n",
        "data"
      ],
      "metadata": {
        "colab": {
          "base_uri": "https://localhost:8080/"
        },
        "id": "Z3utPhCPhKds",
        "outputId": "8d535b83-3792-4ca0-d54f-3c0e29249972"
      },
      "execution_count": null,
      "outputs": [
        {
          "output_type": "execute_result",
          "data": {
            "text/plain": [
              "array([[3.20000000e+00, 2.23517418e-06, 2.43000000e-04, 1.00000000e+02,\n",
              "        1.85916358e-02],\n",
              "       [3.20000000e+00, 2.23517418e-06, 2.43000000e-04, 1.00000000e+02,\n",
              "        1.85916358e-02],\n",
              "       [3.19200000e+00, 2.23517418e-05, 1.16800000e-03, 1.00000000e+03,\n",
              "        1.60451567e-02],\n",
              "       [3.20000000e+00, 2.23517418e-06, 2.43000000e-04, 1.00000000e+02,\n",
              "        1.85916358e-02],\n",
              "       [3.20000000e+00, 2.23517418e-06, 2.43000000e-04, 1.00000000e+02,\n",
              "        1.85916358e-02],\n",
              "       [3.19200000e+00, 2.23517418e-05, 1.16800000e-03, 1.00000000e+03,\n",
              "        1.60451567e-02],\n",
              "       [3.16640000e+00, 2.23517418e-04, 5.90000000e-04, 1.00000000e+04,\n",
              "        7.89642361e-03],\n",
              "       [3.20000000e+00, 2.23517418e-06, 2.43000000e-04, 1.00000000e+02,\n",
              "        1.85916358e-02],\n",
              "       [3.20000000e+00, 2.23517418e-06, 2.43000000e-04, 1.00000000e+02,\n",
              "        1.85916358e-02],\n",
              "       [3.19200000e+00, 2.23517418e-05, 1.16800000e-03, 1.00000000e+03,\n",
              "        1.60451567e-02],\n",
              "       [3.20000000e+00, 2.23517418e-06, 2.43000000e-04, 1.00000000e+02,\n",
              "        1.85916358e-02],\n",
              "       [3.20000000e+00, 2.23517418e-06, 2.43000000e-04, 1.00000000e+02,\n",
              "        1.85916358e-02],\n",
              "       [3.19200000e+00, 2.23517418e-05, 1.16800000e-03, 1.00000000e+03,\n",
              "        1.60451567e-02],\n",
              "       [3.16640000e+00, 2.23517418e-04, 5.90000000e-04, 1.00000000e+04,\n",
              "        7.89642361e-03],\n",
              "       [3.14628000e+00, 2.23517418e-03, 4.78100000e-03, 1.00000000e+05,\n",
              "        1.49202870e-03],\n",
              "       [3.20000000e+00, 2.23517418e-06, 2.43000000e-04, 1.00000000e+02,\n",
              "        1.85916358e-02],\n",
              "       [3.20000000e+00, 2.23517418e-06, 2.43000000e-04, 1.00000000e+02,\n",
              "        1.85916358e-02],\n",
              "       [3.19200000e+00, 2.23517418e-05, 1.16800000e-03, 1.00000000e+03,\n",
              "        1.60451567e-02],\n",
              "       [3.20000000e+00, 2.23517418e-06, 2.43000000e-04, 1.00000000e+02,\n",
              "        1.85916358e-02],\n",
              "       [3.20000000e+00, 2.23517418e-06, 2.43000000e-04, 1.00000000e+02,\n",
              "        1.85916358e-02],\n",
              "       [3.19200000e+00, 2.23517418e-05, 1.16800000e-03, 1.00000000e+03,\n",
              "        1.60451567e-02],\n",
              "       [3.16640000e+00, 2.23517418e-04, 5.90000000e-04, 1.00000000e+04,\n",
              "        7.89642361e-03],\n",
              "       [3.20000000e+00, 2.23517418e-06, 2.43000000e-04, 1.00000000e+02,\n",
              "        1.85916358e-02],\n",
              "       [3.20000000e+00, 2.23517418e-06, 2.43000000e-04, 1.00000000e+02,\n",
              "        1.85916358e-02],\n",
              "       [3.19200000e+00, 2.23517418e-05, 1.16800000e-03, 1.00000000e+03,\n",
              "        1.60451567e-02],\n",
              "       [3.20000000e+00, 2.23517418e-06, 2.43000000e-04, 1.00000000e+02,\n",
              "        1.85916358e-02],\n",
              "       [3.20000000e+00, 2.23517418e-06, 2.43000000e-04, 1.00000000e+02,\n",
              "        1.85916358e-02],\n",
              "       [3.19200000e+00, 2.23517418e-05, 1.16800000e-03, 1.00000000e+03,\n",
              "        1.60451567e-02],\n",
              "       [3.16640000e+00, 2.23517418e-04, 5.90000000e-04, 1.00000000e+04,\n",
              "        7.89642361e-03],\n",
              "       [3.14628000e+00, 2.23517418e-03, 4.78100000e-03, 1.00000000e+05,\n",
              "        1.49202870e-03],\n",
              "       [3.14126400e+00, 2.23517418e-02, 6.09800000e-02, 1.00000000e+06,\n",
              "        1.04613687e-04],\n",
              "       [3.20000000e+00, 2.23517418e-06, 2.43000000e-04, 1.00000000e+02,\n",
              "        1.85916358e-02],\n",
              "       [3.20000000e+00, 2.23517418e-06, 2.43000000e-04, 1.00000000e+02,\n",
              "        1.85916358e-02],\n",
              "       [3.19200000e+00, 2.23517418e-05, 1.16800000e-03, 1.00000000e+03,\n",
              "        1.60451567e-02],\n",
              "       [3.20000000e+00, 2.23517418e-06, 2.43000000e-04, 1.00000000e+02,\n",
              "        1.85916358e-02],\n",
              "       [3.20000000e+00, 2.23517418e-06, 2.43000000e-04, 1.00000000e+02,\n",
              "        1.85916358e-02],\n",
              "       [3.19200000e+00, 2.23517418e-05, 1.16800000e-03, 1.00000000e+03,\n",
              "        1.60451567e-02],\n",
              "       [3.16640000e+00, 2.23517418e-04, 5.90000000e-04, 1.00000000e+04,\n",
              "        7.89642361e-03],\n",
              "       [3.20000000e+00, 2.23517418e-06, 2.43000000e-04, 1.00000000e+02,\n",
              "        1.85916358e-02],\n",
              "       [3.20000000e+00, 2.23517418e-06, 2.43000000e-04, 1.00000000e+02,\n",
              "        1.85916358e-02],\n",
              "       [3.19200000e+00, 2.23517418e-05, 1.16800000e-03, 1.00000000e+03,\n",
              "        1.60451567e-02],\n",
              "       [3.20000000e+00, 2.23517418e-06, 2.43000000e-04, 1.00000000e+02,\n",
              "        1.85916358e-02],\n",
              "       [3.20000000e+00, 2.23517418e-06, 2.43000000e-04, 1.00000000e+02,\n",
              "        1.85916358e-02],\n",
              "       [3.19200000e+00, 2.23517418e-05, 1.16800000e-03, 1.00000000e+03,\n",
              "        1.60451567e-02],\n",
              "       [3.16640000e+00, 2.23517418e-04, 5.90000000e-04, 1.00000000e+04,\n",
              "        7.89642361e-03],\n",
              "       [3.14628000e+00, 2.23517418e-03, 4.78100000e-03, 1.00000000e+05,\n",
              "        1.49202870e-03],\n",
              "       [3.20000000e+00, 2.23517418e-06, 2.43000000e-04, 1.00000000e+02,\n",
              "        1.85916358e-02],\n",
              "       [3.20000000e+00, 2.23517418e-06, 2.43000000e-04, 1.00000000e+02,\n",
              "        1.85916358e-02],\n",
              "       [3.19200000e+00, 2.23517418e-05, 1.16800000e-03, 1.00000000e+03,\n",
              "        1.60451567e-02],\n",
              "       [3.20000000e+00, 2.23517418e-06, 2.43000000e-04, 1.00000000e+02,\n",
              "        1.85916358e-02],\n",
              "       [3.20000000e+00, 2.23517418e-06, 2.43000000e-04, 1.00000000e+02,\n",
              "        1.85916358e-02],\n",
              "       [3.19200000e+00, 2.23517418e-05, 1.16800000e-03, 1.00000000e+03,\n",
              "        1.60451567e-02],\n",
              "       [3.16640000e+00, 2.23517418e-04, 5.90000000e-04, 1.00000000e+04,\n",
              "        7.89642361e-03],\n",
              "       [3.20000000e+00, 2.23517418e-06, 2.43000000e-04, 1.00000000e+02,\n",
              "        1.85916358e-02],\n",
              "       [3.20000000e+00, 2.23517418e-06, 2.43000000e-04, 1.00000000e+02,\n",
              "        1.85916358e-02],\n",
              "       [3.19200000e+00, 2.23517418e-05, 1.16800000e-03, 1.00000000e+03,\n",
              "        1.60451567e-02],\n",
              "       [3.20000000e+00, 2.23517418e-06, 2.43000000e-04, 1.00000000e+02,\n",
              "        1.85916358e-02],\n",
              "       [3.20000000e+00, 2.23517418e-06, 2.43000000e-04, 1.00000000e+02,\n",
              "        1.85916358e-02],\n",
              "       [3.19200000e+00, 2.23517418e-05, 1.16800000e-03, 1.00000000e+03,\n",
              "        1.60451567e-02],\n",
              "       [3.16640000e+00, 2.23517418e-04, 5.90000000e-04, 1.00000000e+04,\n",
              "        7.89642361e-03],\n",
              "       [3.14628000e+00, 2.23517418e-03, 4.78100000e-03, 1.00000000e+05,\n",
              "        1.49202870e-03],\n",
              "       [3.14126400e+00, 2.23517418e-02, 6.09800000e-02, 1.00000000e+06,\n",
              "        1.04613687e-04],\n",
              "       [3.14157440e+00, 2.23517418e-01, 6.51248000e-01, 1.00000000e+07,\n",
              "        5.81029809e-06],\n",
              "       [3.20000000e+00, 2.23517418e-06, 2.43000000e-04, 1.00000000e+02,\n",
              "        1.85916358e-02],\n",
              "       [3.20000000e+00, 2.23517418e-06, 2.43000000e-04, 1.00000000e+02,\n",
              "        1.85916358e-02],\n",
              "       [3.19200000e+00, 2.23517418e-05, 1.16800000e-03, 1.00000000e+03,\n",
              "        1.60451567e-02],\n",
              "       [3.20000000e+00, 2.23517418e-06, 2.43000000e-04, 1.00000000e+02,\n",
              "        1.85916358e-02],\n",
              "       [3.20000000e+00, 2.23517418e-06, 2.43000000e-04, 1.00000000e+02,\n",
              "        1.85916358e-02],\n",
              "       [3.19200000e+00, 2.23517418e-05, 1.16800000e-03, 1.00000000e+03,\n",
              "        1.60451567e-02],\n",
              "       [3.16640000e+00, 2.23517418e-04, 5.90000000e-04, 1.00000000e+04,\n",
              "        7.89642361e-03],\n",
              "       [3.20000000e+00, 2.23517418e-06, 2.43000000e-04, 1.00000000e+02,\n",
              "        1.85916358e-02],\n",
              "       [3.20000000e+00, 2.23517418e-06, 2.43000000e-04, 1.00000000e+02,\n",
              "        1.85916358e-02],\n",
              "       [3.19200000e+00, 2.23517418e-05, 1.16800000e-03, 1.00000000e+03,\n",
              "        1.60451567e-02],\n",
              "       [3.20000000e+00, 2.23517418e-06, 2.43000000e-04, 1.00000000e+02,\n",
              "        1.85916358e-02],\n",
              "       [3.20000000e+00, 2.23517418e-06, 2.43000000e-04, 1.00000000e+02,\n",
              "        1.85916358e-02],\n",
              "       [3.19200000e+00, 2.23517418e-05, 1.16800000e-03, 1.00000000e+03,\n",
              "        1.60451567e-02],\n",
              "       [3.16640000e+00, 2.23517418e-04, 5.90000000e-04, 1.00000000e+04,\n",
              "        7.89642361e-03],\n",
              "       [3.14628000e+00, 2.23517418e-03, 4.78100000e-03, 1.00000000e+05,\n",
              "        1.49202870e-03],\n",
              "       [3.20000000e+00, 2.23517418e-06, 2.43000000e-04, 1.00000000e+02,\n",
              "        1.85916358e-02],\n",
              "       [3.20000000e+00, 2.23517418e-06, 2.43000000e-04, 1.00000000e+02,\n",
              "        1.85916358e-02],\n",
              "       [3.19200000e+00, 2.23517418e-05, 1.16800000e-03, 1.00000000e+03,\n",
              "        1.60451567e-02],\n",
              "       [3.20000000e+00, 2.23517418e-06, 2.43000000e-04, 1.00000000e+02,\n",
              "        1.85916358e-02],\n",
              "       [3.20000000e+00, 2.23517418e-06, 2.43000000e-04, 1.00000000e+02,\n",
              "        1.85916358e-02],\n",
              "       [3.19200000e+00, 2.23517418e-05, 1.16800000e-03, 1.00000000e+03,\n",
              "        1.60451567e-02],\n",
              "       [3.16640000e+00, 2.23517418e-04, 5.90000000e-04, 1.00000000e+04,\n",
              "        7.89642361e-03],\n",
              "       [3.20000000e+00, 2.23517418e-06, 2.43000000e-04, 1.00000000e+02,\n",
              "        1.85916358e-02],\n",
              "       [3.20000000e+00, 2.23517418e-06, 2.43000000e-04, 1.00000000e+02,\n",
              "        1.85916358e-02],\n",
              "       [3.19200000e+00, 2.23517418e-05, 1.16800000e-03, 1.00000000e+03,\n",
              "        1.60451567e-02],\n",
              "       [3.20000000e+00, 2.23517418e-06, 2.43000000e-04, 1.00000000e+02,\n",
              "        1.85916358e-02],\n",
              "       [3.20000000e+00, 2.23517418e-06, 2.43000000e-04, 1.00000000e+02,\n",
              "        1.85916358e-02],\n",
              "       [3.19200000e+00, 2.23517418e-05, 1.16800000e-03, 1.00000000e+03,\n",
              "        1.60451567e-02],\n",
              "       [3.16640000e+00, 2.23517418e-04, 5.90000000e-04, 1.00000000e+04,\n",
              "        7.89642361e-03],\n",
              "       [3.14628000e+00, 2.23517418e-03, 4.78100000e-03, 1.00000000e+05,\n",
              "        1.49202870e-03],\n",
              "       [3.14126400e+00, 2.23517418e-02, 6.09800000e-02, 1.00000000e+06,\n",
              "        1.04613687e-04],\n",
              "       [3.20000000e+00, 2.23517418e-06, 2.43000000e-04, 1.00000000e+02,\n",
              "        1.85916358e-02],\n",
              "       [3.20000000e+00, 2.23517418e-06, 2.43000000e-04, 1.00000000e+02,\n",
              "        1.85916358e-02],\n",
              "       [3.19200000e+00, 2.23517418e-05, 1.16800000e-03, 1.00000000e+03,\n",
              "        1.60451567e-02],\n",
              "       [3.20000000e+00, 2.23517418e-06, 2.43000000e-04, 1.00000000e+02,\n",
              "        1.85916358e-02],\n",
              "       [3.20000000e+00, 2.23517418e-06, 2.43000000e-04, 1.00000000e+02,\n",
              "        1.85916358e-02],\n",
              "       [3.19200000e+00, 2.23517418e-05, 1.16800000e-03, 1.00000000e+03,\n",
              "        1.60451567e-02],\n",
              "       [3.16640000e+00, 2.23517418e-04, 5.90000000e-04, 1.00000000e+04,\n",
              "        7.89642361e-03],\n",
              "       [3.20000000e+00, 2.23517418e-06, 2.43000000e-04, 1.00000000e+02,\n",
              "        1.85916358e-02],\n",
              "       [3.20000000e+00, 2.23517418e-06, 2.43000000e-04, 1.00000000e+02,\n",
              "        1.85916358e-02],\n",
              "       [3.19200000e+00, 2.23517418e-05, 1.16800000e-03, 1.00000000e+03,\n",
              "        1.60451567e-02],\n",
              "       [3.20000000e+00, 2.23517418e-06, 2.43000000e-04, 1.00000000e+02,\n",
              "        1.85916358e-02],\n",
              "       [3.20000000e+00, 2.23517418e-06, 2.43000000e-04, 1.00000000e+02,\n",
              "        1.85916358e-02],\n",
              "       [3.19200000e+00, 2.23517418e-05, 1.16800000e-03, 1.00000000e+03,\n",
              "        1.60451567e-02],\n",
              "       [3.16640000e+00, 2.23517418e-04, 5.90000000e-04, 1.00000000e+04,\n",
              "        7.89642361e-03],\n",
              "       [3.14628000e+00, 2.23517418e-03, 4.78100000e-03, 1.00000000e+05,\n",
              "        1.49202870e-03],\n",
              "       [3.20000000e+00, 2.23517418e-06, 2.43000000e-04, 1.00000000e+02,\n",
              "        1.85916358e-02],\n",
              "       [3.20000000e+00, 2.23517418e-06, 2.43000000e-04, 1.00000000e+02,\n",
              "        1.85916358e-02],\n",
              "       [3.19200000e+00, 2.23517418e-05, 1.16800000e-03, 1.00000000e+03,\n",
              "        1.60451567e-02],\n",
              "       [3.20000000e+00, 2.23517418e-06, 2.43000000e-04, 1.00000000e+02,\n",
              "        1.85916358e-02],\n",
              "       [3.20000000e+00, 2.23517418e-06, 2.43000000e-04, 1.00000000e+02,\n",
              "        1.85916358e-02],\n",
              "       [3.19200000e+00, 2.23517418e-05, 1.16800000e-03, 1.00000000e+03,\n",
              "        1.60451567e-02],\n",
              "       [3.16640000e+00, 2.23517418e-04, 5.90000000e-04, 1.00000000e+04,\n",
              "        7.89642361e-03],\n",
              "       [3.20000000e+00, 2.23517418e-06, 2.43000000e-04, 1.00000000e+02,\n",
              "        1.85916358e-02],\n",
              "       [3.20000000e+00, 2.23517418e-06, 2.43000000e-04, 1.00000000e+02,\n",
              "        1.85916358e-02],\n",
              "       [3.19200000e+00, 2.23517418e-05, 1.16800000e-03, 1.00000000e+03,\n",
              "        1.60451567e-02],\n",
              "       [3.20000000e+00, 2.23517418e-06, 2.43000000e-04, 1.00000000e+02,\n",
              "        1.85916358e-02],\n",
              "       [3.20000000e+00, 2.23517418e-06, 2.43000000e-04, 1.00000000e+02,\n",
              "        1.85916358e-02],\n",
              "       [3.19200000e+00, 2.23517418e-05, 1.16800000e-03, 1.00000000e+03,\n",
              "        1.60451567e-02],\n",
              "       [3.16640000e+00, 2.23517418e-04, 5.90000000e-04, 1.00000000e+04,\n",
              "        7.89642361e-03],\n",
              "       [3.14628000e+00, 2.23517418e-03, 4.78100000e-03, 1.00000000e+05,\n",
              "        1.49202870e-03],\n",
              "       [3.14126400e+00, 2.23517418e-02, 6.09800000e-02, 1.00000000e+06,\n",
              "        1.04613687e-04],\n",
              "       [3.14157440e+00, 2.23517418e-01, 6.51248000e-01, 1.00000000e+07,\n",
              "        5.81029809e-06],\n",
              "       [3.14186228e+00, 2.23517418e+00, 7.95029600e+00, 1.00000000e+08,\n",
              "        8.58247519e-05]])"
            ]
          },
          "metadata": {},
          "execution_count": 107
        }
      ]
    },
    {
      "cell_type": "code",
      "source": [
        "#Importing matplot library for graphs\n",
        "import matplotlib.pyplot as plt\n",
        "\n",
        "fig, ax = plt.subplots()\n",
        "\n",
        "#Creating the graph\n",
        "ax.scatter(x=data[:, 3], y=data[:,4])\n",
        "\n",
        "#Labeling the Graph\n",
        "ax.set_xlabel(\"Number of Samples\")\n",
        "ax.set_ylabel(\"Relative Error\")\n",
        "ax.set_title(\"Relative Error vs Number of Samples\")"
      ],
      "metadata": {
        "colab": {
          "base_uri": "https://localhost:8080/",
          "height": 489
        },
        "id": "asr7x_0jIWsz",
        "outputId": "8ddd548f-06e5-44a4-d320-2f3d4cf989cf"
      },
      "execution_count": null,
      "outputs": [
        {
          "output_type": "execute_result",
          "data": {
            "text/plain": [
              "Text(0.5, 1.0, 'Relative Error vs Number of Samples')"
            ]
          },
          "metadata": {},
          "execution_count": 109
        },
        {
          "output_type": "display_data",
          "data": {
            "text/plain": [
              "<Figure size 640x480 with 1 Axes>"
            ],
            "image/png": "[encoded data removed]"
          },
          "metadata": {}
        }
      ]
    },
    {
      "cell_type": "markdown",
      "source": [
        "7.\n",
        "a.) As N is increased, the accuracy is improved. The error decreases by around a factor of 3 or 4. It does not decrease by a factor of 10.\n",
        "\n",
        "b.)The memory increases by a factor of 10, each time the sample size by a factor of 10. On a log log plot the slope of the trendline would be 1.\n",
        "\n",
        "c.) I'd expect that it would be linear because when the sample increases by a factor of 10, the time also increases by around a factor of 10."
      ],
      "metadata": {
        "id": "GIhtX2PdCJ0l"
      }
    },
    {
      "cell_type": "code",
      "source": [
        "#Adding a trendline and getting slope\n"
      ],
      "metadata": {
        "id": "xjO1SSy4Idyd"
      },
      "execution_count": null,
      "outputs": []
    }
  ]
}